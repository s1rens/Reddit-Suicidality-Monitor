{
  "nbformat": 4,
  "nbformat_minor": 0,
  "metadata": {
    "kernelspec": {
      "display_name": "Python 3",
      "language": "python",
      "name": "python3"
    },
    "language_info": {
      "codemirror_mode": {
        "name": "ipython",
        "version": 3
      },
      "file_extension": ".py",
      "mimetype": "text/x-python",
      "name": "python",
      "nbconvert_exporter": "python",
      "pygments_lexer": "ipython3",
      "version": "3.8.6"
    },
    "colab": {
      "name": "Project - Security.ipynb",
      "provenance": [],
      "include_colab_link": true
    }
  },
  "cells": [
    {
      "cell_type": "markdown",
      "metadata": {
        "id": "view-in-github",
        "colab_type": "text"
      },
      "source": [
        "<a href=\"https://colab.research.google.com/github/s1rens/Reddit-Suicidality-Monitor/blob/main/Security.ipynb\" target=\"_parent\"><img src=\"https://colab.research.google.com/assets/colab-badge.svg\" alt=\"Open In Colab\"/></a>"
      ]
    },
    {
      "cell_type": "code",
      "metadata": {
        "id": "KrDpyKhTuH-i"
      },
      "source": [
        "!pip install cryptography\n",
        "from cryptography.fernet import Fernet\n",
        "import pandas as pd"
      ],
      "execution_count": null,
      "outputs": []
    },
    {
      "cell_type": "code",
      "metadata": {
        "id": "iz0B3-iDuH-2"
      },
      "source": [
        "# generates new key file\n",
        "key = Fernet.generate_key()\n",
        "with open('key.key', 'wb') as file: # save key to file\n",
        "    file.write(key)\n",
        "print(key)"
      ],
      "execution_count": null,
      "outputs": []
    },
    {
      "cell_type": "code",
      "metadata": {
        "id": "31TsXuQwuH-7"
      },
      "source": [
        "# read key from file\n",
        "with open('key.key','rb') as file:\n",
        "    key = file.read()\n",
        "print(key)\n",
        "fnet = Fernet(key)"
      ],
      "execution_count": null,
      "outputs": []
    },
    {
      "cell_type": "code",
      "metadata": {
        "id": "G3H4pNz-uH--"
      },
      "source": [
        "# encrypt a username before manually adding it to file\n",
        "usernames_to_encrypt = [] # put usernames here\n",
        "encrypted_usernames = [fnet.encrypt(username.encode()) for username in usernames_to_encrypt]\n",
        "encrypted_usernames = [username.decode() for username in encrypted_usernames]\n",
        "for item in encrypted_usernames:\n",
        "    print(item)"
      ],
      "execution_count": null,
      "outputs": []
    },
    {
      "cell_type": "code",
      "metadata": {
        "id": "v1MUJYKfuH_A"
      },
      "source": [
        "# decrypt username list\n",
        "with open('usernames_to_monitor.txt','r') as file:\n",
        "    contents = [line.strip() for line in file]\n",
        "    contents = [username.encode() for username in contents]\n",
        "    contents = [fnet.decrypt(username).decode() for username in contents]\n",
        "print(contents)"
      ],
      "execution_count": null,
      "outputs": []
    },
    {
      "cell_type": "code",
      "metadata": {
        "id": "5Ik4X8wcuH_D"
      },
      "source": [
        "# decrypt submission_log\n",
        "df = pd.read_csv('submission_log.csv', header=0)\n",
        "df = df.applymap(lambda x: x.encode())\n",
        "df = df.applymap(lambda x: fnet.decrypt(x).decode())\n",
        "display(df)"
      ],
      "execution_count": null,
      "outputs": []
    }
  ]
}